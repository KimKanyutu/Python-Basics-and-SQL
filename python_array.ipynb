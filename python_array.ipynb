{
 "cells": [
  {
   "attachments": {},
   "cell_type": "markdown",
   "metadata": {},
   "source": [
    "1). Python. \n",
    "Given an array of integers, find the sum of its elements.\n",
    "For example, if the array ar = [1,2,3],\n",
    "Calculate 1+2+3 = 6, so return 6."
   ]
  },
  {
   "cell_type": "code",
   "execution_count": 1,
   "metadata": {},
   "outputs": [
    {
     "data": {
      "text/plain": [
       "6"
      ]
     },
     "execution_count": 1,
     "metadata": {},
     "output_type": "execute_result"
    }
   ],
   "source": [
    "arr = [1,2,3]\n",
    "def sum_arr(arr):\n",
    "    return sum(arr)\n",
    "\n",
    "sum_arr(arr)"
   ]
  },
  {
   "attachments": {},
   "cell_type": "markdown",
   "metadata": {},
   "source": [
    "2). Python prompting user to input array values"
   ]
  },
  {
   "cell_type": "code",
   "execution_count": 2,
   "metadata": {},
   "outputs": [],
   "source": [
    "def sum_arr(arr):\n",
    "    return sum(arr)"
   ]
  },
  {
   "cell_type": "code",
   "execution_count": 4,
   "metadata": {},
   "outputs": [
    {
     "name": "stdout",
     "output_type": "stream",
     "text": [
      "[4, 2, 6, 1]\n",
      "13\n"
     ]
    }
   ],
   "source": [
    "arr = []\n",
    "input_number = int(input(\"Enter number of elements in array: \"))\n",
    "\n",
    "for i in range(input_number):\n",
    "    arr.append(int(input(\"Enter a number: \")))\n",
    "\n",
    "print(arr)\n",
    "print(sum_arr(arr))"
   ]
  }
 ],
 "metadata": {
  "kernelspec": {
   "display_name": "base",
   "language": "python",
   "name": "python3"
  },
  "language_info": {
   "codemirror_mode": {
    "name": "ipython",
    "version": 3
   },
   "file_extension": ".py",
   "mimetype": "text/x-python",
   "name": "python",
   "nbconvert_exporter": "python",
   "pygments_lexer": "ipython3",
   "version": "3.8.16"
  },
  "orig_nbformat": 4,
  "vscode": {
   "interpreter": {
    "hash": "56177c83154e3604e559d009087a6dcd0166e88f68e97df7a02178a85191aff9"
   }
  }
 },
 "nbformat": 4,
 "nbformat_minor": 2
}
